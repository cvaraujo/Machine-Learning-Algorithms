{
 "cells": [
  {
   "cell_type": "code",
   "execution_count": 1,
   "metadata": {},
   "outputs": [],
   "source": [
    "import numpy as np\n",
    "import pandas as pd"
   ]
  },
  {
   "cell_type": "code",
   "execution_count": 2,
   "metadata": {},
   "outputs": [],
   "source": [
    "titanic = pd.read_csv('titanic/train.csv')\n",
    "\n",
    "age = titanic.Age\n",
    "surv = titanic.Survived\n",
    "\n",
    "train = []\n",
    "for i in range(len(age)):\n",
    "    train.append([age[i], surv[i]])"
   ]
  },
  {
   "cell_type": "code",
   "execution_count": 3,
   "metadata": {},
   "outputs": [],
   "source": [
    "def calculateProbability(a, b, c):\n",
    "    return (c*a)/b"
   ]
  },
  {
   "cell_type": "code",
   "execution_count": 6,
   "metadata": {},
   "outputs": [
    {
     "name": "stdout",
     "output_type": "stream",
     "text": [
      "2 Years, this people died!\n",
      "10 Years, this people died!\n",
      "100 Years, this people survived!\n",
      "200 Years, this people survived!\n"
     ]
    }
   ],
   "source": [
    "def naive(train, test):\n",
    "    qtd_carac = np.arange(len(train))\n",
    "    \n",
    "    for i in range(len(train)):\n",
    "        qtd_carac[i] = train[i][-1]\n",
    "    \n",
    "    # Contando quais são os tipos de elementos e quantos de cada um\n",
    "    unique_elem, total_elem = np.unique(qtd_carac, return_counts=True)\n",
    "    class_count = []\n",
    "    \n",
    "    # Variável com o valor total das linhas\n",
    "    sum_elem = sum(total_elem)\n",
    "    \n",
    "    # Criando tuplas dos dados acima\n",
    "    for i in range(len(unique_elem)):\n",
    "        class_count.append([unique_elem[i], total_elem[i]])\n",
    "    \n",
    "    # Separando as classes de acordo com o test\n",
    "    class_type = []\n",
    "    for i in train:\n",
    "        if i[0] == test:\n",
    "            class_type.append(i[-1])\n",
    "\n",
    "    # Contando a quantidade de cada item baseado no parâmetro de teste\n",
    "    total_class_type = []\n",
    "    total_type = 0\n",
    "    for i in range(len(unique_elem)):\n",
    "        aux =  class_type.count(unique_elem[i])\n",
    "        total_class_type.append([unique_elem[i], aux])\n",
    "        total_type += aux\n",
    "    \n",
    "    # Probabilidade dos elementos\n",
    "    probability_vector = []\n",
    "    for i in total_class_type:\n",
    "        if i[-1] != 0:\n",
    "            aux = calculateProbability((i[-1]/sum_elem), total_type/sum_elem, i[-1])\n",
    "            probability_vector.append([i[0], aux])\n",
    "        else:\n",
    "            aux = calculateProbability(1/sum_elem, 1/sum_elem, 0)\n",
    "            probability_vector.append([i[0], aux])\n",
    "    \n",
    "    # Ordenação do vetor de probabilidades\n",
    "    probability_vector.sort(key=lambda x: x[-1])\n",
    "    \n",
    "    return probability_vector[-1][0]\n",
    "\n",
    "test = [2, 10, 100, 200]\n",
    "for t in test:\n",
    "    result = naive(train, t)\n",
    "    if result == 1:\n",
    "        print(t, \"Years, this people survived!\")\n",
    "    else:\n",
    "        print(t, \"Years, this people died!\")"
   ]
  },
  {
   "cell_type": "code",
   "execution_count": null,
   "metadata": {},
   "outputs": [],
   "source": []
  },
  {
   "cell_type": "code",
   "execution_count": null,
   "metadata": {},
   "outputs": [],
   "source": []
  },
  {
   "cell_type": "code",
   "execution_count": null,
   "metadata": {},
   "outputs": [],
   "source": []
  },
  {
   "cell_type": "code",
   "execution_count": null,
   "metadata": {},
   "outputs": [],
   "source": []
  },
  {
   "cell_type": "code",
   "execution_count": null,
   "metadata": {},
   "outputs": [],
   "source": []
  },
  {
   "cell_type": "code",
   "execution_count": null,
   "metadata": {},
   "outputs": [],
   "source": []
  },
  {
   "cell_type": "code",
   "execution_count": null,
   "metadata": {},
   "outputs": [],
   "source": []
  },
  {
   "cell_type": "code",
   "execution_count": null,
   "metadata": {},
   "outputs": [],
   "source": []
  },
  {
   "cell_type": "code",
   "execution_count": null,
   "metadata": {},
   "outputs": [],
   "source": []
  },
  {
   "cell_type": "code",
   "execution_count": null,
   "metadata": {},
   "outputs": [],
   "source": []
  },
  {
   "cell_type": "code",
   "execution_count": null,
   "metadata": {},
   "outputs": [],
   "source": []
  },
  {
   "cell_type": "code",
   "execution_count": null,
   "metadata": {},
   "outputs": [],
   "source": []
  },
  {
   "cell_type": "code",
   "execution_count": null,
   "metadata": {},
   "outputs": [],
   "source": []
  }
 ],
 "metadata": {
  "kernelspec": {
   "display_name": "Python 3",
   "language": "python",
   "name": "python3"
  },
  "language_info": {
   "codemirror_mode": {
    "name": "ipython",
    "version": 3
   },
   "file_extension": ".py",
   "mimetype": "text/x-python",
   "name": "python",
   "nbconvert_exporter": "python",
   "pygments_lexer": "ipython3",
   "version": "3.6.3"
  }
 },
 "nbformat": 4,
 "nbformat_minor": 2
}
